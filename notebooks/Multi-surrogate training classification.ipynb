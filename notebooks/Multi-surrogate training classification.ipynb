{
 "cells": [
  {
   "cell_type": "code",
   "execution_count": 1,
   "metadata": {},
   "outputs": [],
   "source": [
    "# Modify sys.path\n",
    "import os\n",
    "import sys\n",
    "\n",
    "project_root = os.path.abspath(os.path.join(os.getcwd(), \"..\"))\n",
    "sys.path.append(project_root)"
   ]
  },
  {
   "cell_type": "code",
   "execution_count": 2,
   "metadata": {},
   "outputs": [],
   "source": [
    "import numpy as np\n",
    "import pandas as pd\n",
    "import random\n",
    "from sklearn.metrics import balanced_accuracy_score, roc_auc_score\n",
    "from sklearn import preprocessing\n",
    "from sklearn.ensemble import RandomForestClassifier\n",
    "from sklearn import svm\n",
    "from sklearn.model_selection import RepeatedStratifiedKFold, RepeatedKFold\n",
    "import pickle\n",
    "\n",
    "import tensorflow as tf\n",
    "from tensorflow.keras.models import Sequential\n",
    "from tensorflow.keras.layers import Dense, LSTM, Dropout, InputLayer\n",
    "\n",
    "import config.config as config\n",
    "from src.data_processing import read_arff, preprocess_data_classification\n",
    "from src.utils import lags"
   ]
  },
  {
   "cell_type": "code",
   "execution_count": 3,
   "metadata": {},
   "outputs": [],
   "source": [
    "import warnings\n",
    "warnings.filterwarnings(\"ignore\")"
   ]
  },
  {
   "cell_type": "code",
   "execution_count": 4,
   "metadata": {},
   "outputs": [],
   "source": [
    "def surrogate_creation(Tx, Ty, modelSurrogate, path, model_type=\"ML\", nSplit=3, nRepeat=1):\n",
    "    baScores, rocScores = [], []\n",
    "    train_X_cv, train_Y_cv, test_X_cv, test_Y_cv = [], [], [], []\n",
    "    \n",
    "    Tx_array = np.asarray(Tx)\n",
    "    Ty_array = np.asarray(Ty).ravel()\n",
    "    rskf = RepeatedStratifiedKFold(n_splits=nSplit, n_repeats=nRepeat, random_state=config.SEED_VALUE)\n",
    "    \n",
    "    for idx, (train_index, test_index) in enumerate(rskf.split(Tx_array, Ty_array)):\n",
    "        X_train, X_test = Tx_array[train_index], Tx_array[test_index]\n",
    "        y_train, y_test = Ty_array[train_index], Ty_array[test_index]\n",
    "\n",
    "        train_X_cv.append(pd.DataFrame(X_train, columns=Tx.columns))\n",
    "        train_Y_cv.append(y_train.ravel())\n",
    "        test_X_cv.append(pd.DataFrame(X_test, columns=Tx.columns))\n",
    "        test_Y_cv.append(y_test.ravel())\n",
    "        \n",
    "        if model_type == \"DL\":\n",
    "            X_train, X_test = X_train.reshape((X_train.shape[0], 1, X_train.shape[1])), X_test.reshape((X_test.shape[0], 1, X_test.shape[1]))\n",
    "        \n",
    "        model = modelSurrogate() \n",
    "        \n",
    "        if model_type == \"ML\":\n",
    "            model.fit(X_train, np.array(y_train).ravel())\n",
    "        elif model_type == \"DL\":\n",
    "            random.seed(config.SEED_VALUE)\n",
    "            np.random.seed(config.SEED_VALUE)\n",
    "            tf.random.set_seed(config.SEED_VALUE)\n",
    "            \n",
    "            model.fit(X_train, y_train, batch_size=config.BATCH_SIZE, epochs=config.EPOCHS, verbose=0)\n",
    "        \n",
    "        pred = model.predict(X_test).ravel()\n",
    "        \n",
    "        baScores.append(balanced_accuracy_score(y_test, pred))\n",
    "\n",
    "        lb = preprocessing.LabelBinarizer()\n",
    "        lb.fit(y_test)\n",
    "        y_test = lb.transform(y_test)\n",
    "        pred = lb.transform(pred)\n",
    "        rocScores.append(roc_auc_score(y_test, pred, multi_class='ovo', average='weighted'))\n",
    "        \n",
    "        if model_type == \"ML\":\n",
    "            with open(f\"{path}-{idx}.pkl\", 'wb') as file:\n",
    "                pickle.dump(model, file)\n",
    "        else:\n",
    "            model.save(f\"{path}-{idx}.h5\")\n",
    "        \n",
    "    print(f\"Balanced accuracy: {np.mean(baScores):.4f} ± {np.std(baScores):.4f}\")\n",
    "    print(f\"ROC-AUC score: {np.mean(rocScores):.4f} ± {np.std(rocScores):.4f}\")\n",
    "\n",
    "    return train_X_cv, train_Y_cv, test_X_cv, test_Y_cv"
   ]
  },
  {
   "cell_type": "code",
   "execution_count": 5,
   "metadata": {},
   "outputs": [],
   "source": [
    "def RF_model():\n",
    "    return RandomForestClassifier(random_state=config.SEED_VALUE)"
   ]
  },
  {
   "cell_type": "code",
   "execution_count": 6,
   "metadata": {},
   "outputs": [],
   "source": [
    "def SVM_model():\n",
    "    return svm.SVC(C=10, kernel='poly', random_state=config.SEED_VALUE)"
   ]
  },
  {
   "cell_type": "code",
   "execution_count": 7,
   "metadata": {},
   "outputs": [],
   "source": [
    "# Load dataset\n",
    "DATA_PATH = os.path.join('..', 'data', config.DATASET_NAME)\n",
    "\n",
    "dataset = read_arff(DATA_PATH)\n",
    "\n",
    "# Apply sliding window transformation\n",
    "df_lagged = lags(dataset, config.N_STEPS).iloc[config.N_STEPS:,:].reset_index(drop=True)\n",
    "\n",
    "df_dict = preprocess_data_classification(df_lagged)\n",
    "\n",
    "train_X, train_Y, test_X, test_Y = df_dict['normalized']"
   ]
  },
  {
   "cell_type": "code",
   "execution_count": 7,
   "metadata": {},
   "outputs": [],
   "source": [
    "# Load dataset\n",
    "aljorra = read_arff('../data/LaAljorra-WS7-normalized-classification.arff')\n",
    "\n",
    "import re\n",
    "aljorraFixed = aljorra.copy()\n",
    "for i in range(len(aljorra['NO2'])):\n",
    "    processedStr = re.sub('\\\\\\\\', '', aljorra['NO2'][i].decode(\"utf-8\"), count=0, flags=0)\n",
    "    finalStr = re.sub('\\'\\'', '', processedStr, count=0, flags=0)\n",
    "    aljorraFixed.loc[i, 'NO2'] = finalStr\n",
    "    \n",
    "    processedStr = re.sub('\\\\\\\\', '', aljorra['Lag_NO2-1'][i].decode(\"utf-8\"), count=0, flags=0)\n",
    "    finalStr = re.sub('\\'\\'', '', processedStr, count=0, flags=0)\n",
    "    aljorraFixed.loc[i, 'Lag_NO2-1'] = finalStr\n",
    "    \n",
    "    processedStr = re.sub('\\\\\\\\', '', aljorra['Lag_NO2-2'][i].decode(\"utf-8\"), count=0, flags=0)\n",
    "    finalStr = re.sub('\\'\\'', '', processedStr, count=0, flags=0)\n",
    "    aljorraFixed.loc[i, 'Lag_NO2-2'] = finalStr\n",
    "    \n",
    "    processedStr = re.sub('\\\\\\\\', '', aljorra['Lag_NO2-3'][i].decode(\"utf-8\"), count=0, flags=0)\n",
    "    finalStr = re.sub('\\'\\'', '', processedStr, count=0, flags=0)\n",
    "    aljorraFixed.loc[i, 'Lag_NO2-3'] = finalStr\n",
    "    \n",
    "    processedStr = re.sub('\\\\\\\\', '', aljorra['Lag_NO2-4'][i].decode(\"utf-8\"), count=0, flags=0)\n",
    "    finalStr = re.sub('\\'\\'', '', processedStr, count=0, flags=0)\n",
    "    aljorraFixed.loc[i, 'Lag_NO2-4'] = finalStr\n",
    "    \n",
    "    processedStr = re.sub('\\\\\\\\', '', aljorra['Lag_NO2-5'][i].decode(\"utf-8\"), count=0, flags=0)\n",
    "    finalStr = re.sub('\\'\\'', '', processedStr, count=0, flags=0)\n",
    "    aljorraFixed.loc[i, 'Lag_NO2-5'] = finalStr\n",
    "    \n",
    "    processedStr = re.sub('\\\\\\\\', '', aljorra['Lag_NO2-6'][i].decode(\"utf-8\"), count=0, flags=0)\n",
    "    finalStr = re.sub('\\'\\'', '', processedStr, count=0, flags=0)\n",
    "    aljorraFixed.loc[i, 'Lag_NO2-6'] = finalStr\n",
    "    \n",
    "    processedStr = re.sub('\\\\\\\\', '', aljorra['Lag_NO2-7'][i].decode(\"utf-8\"), count=0, flags=0)\n",
    "    finalStr = re.sub('\\'\\'', '', processedStr, count=0, flags=0)\n",
    "    aljorraFixed.loc[i, 'Lag_NO2-7'] = finalStr\n",
    "\n",
    "le = preprocessing.LabelEncoder()\n",
    "le.fit(['B1of7', 'B2of7', 'B3of7', 'B4of7', 'B5of7', 'B6of7', 'B7of7', 'None'])\n",
    "\n",
    "aljorraFixed['NO2'] = le.transform(aljorraFixed['NO2'])\n",
    "aljorraFixed['Lag_NO2-1'] = le.transform(aljorraFixed['Lag_NO2-1'])\n",
    "aljorraFixed['Lag_NO2-2'] = le.transform(aljorraFixed['Lag_NO2-2'])\n",
    "aljorraFixed['Lag_NO2-3'] = le.transform(aljorraFixed['Lag_NO2-3'])\n",
    "aljorraFixed['Lag_NO2-4'] = le.transform(aljorraFixed['Lag_NO2-4'])\n",
    "aljorraFixed['Lag_NO2-5'] = le.transform(aljorraFixed['Lag_NO2-5'])\n",
    "aljorraFixed['Lag_NO2-6'] = le.transform(aljorraFixed['Lag_NO2-6'])\n",
    "aljorraFixed['Lag_NO2-7'] = le.transform(aljorraFixed['Lag_NO2-7'])\n",
    "\n",
    "aljorraFixed.columns = [c.replace('-', '_') for c in aljorraFixed.columns]\n",
    "\n",
    "from sklearn.model_selection import train_test_split\n",
    "train_X, test_X, train_Y, test_Y = train_test_split(aljorraFixed.iloc[:,:-1], aljorraFixed.iloc[:,-1], test_size=0.2, random_state=1234, stratify=aljorraFixed.iloc[:,-1])"
   ]
  },
  {
   "cell_type": "code",
   "execution_count": 8,
   "metadata": {},
   "outputs": [
    {
     "name": "stdout",
     "output_type": "stream",
     "text": [
      "Balanced accuracy: 0.9750 ± 0.0202\n",
      "ROC-AUC score: 0.9810 ± 0.0154\n",
      "Balanced accuracy: 0.9505 ± 0.0015\n",
      "ROC-AUC score: 0.9618 ± 0.0003\n"
     ]
    }
   ],
   "source": [
    "train_X_cv_RF, train_Y_cv_RF, test_X_cv_RF, test_Y_cv_RF = surrogate_creation(train_X, train_Y, RF_model, \n",
    "                                                                              rf'../models/{config.DATASET_SAVE_NAME}-surrogate-classification-RF', model_type=\"ML\")\n",
    "train_X_cv_SVM, train_Y_cv_SVM, test_X_cv_SVM, test_Y_cv_SVM = surrogate_creation(train_X, train_Y, SVM_model, \n",
    "                                                                                      rf'../models/{config.DATASET_SAVE_NAME}-surrogate-classification-SVM', model_type=\"ML\")"
   ]
  },
  {
   "cell_type": "code",
   "execution_count": 9,
   "metadata": {},
   "outputs": [],
   "source": [
    "# Save results\n",
    "with open(f'../variables/{config.DATASET_SAVE_NAME}-dataset-cv-classification-RF.pickle', 'wb') as f:\n",
    "     pickle.dump([train_X_cv_RF, train_Y_cv_RF, test_X_cv_RF, test_Y_cv_RF], f)\n",
    "\n",
    "with open(f'../variables/{config.DATASET_SAVE_NAME}-dataset-cv-classification-SVM.pickle', 'wb') as f:\n",
    "     pickle.dump([train_X_cv_SVM, train_Y_cv_SVM, test_X_cv_SVM, test_Y_cv_SVM], f)"
   ]
  },
  {
   "cell_type": "code",
   "execution_count": null,
   "metadata": {},
   "outputs": [],
   "source": []
  },
  {
   "cell_type": "code",
   "execution_count": null,
   "metadata": {},
   "outputs": [],
   "source": []
  },
  {
   "cell_type": "code",
   "execution_count": 10,
   "metadata": {},
   "outputs": [
    {
     "ename": "NameError",
     "evalue": "name 'Tx' is not defined",
     "output_type": "error",
     "traceback": [
      "\u001b[1;31m---------------------------------------------------------------------------\u001b[0m",
      "\u001b[1;31mNameError\u001b[0m                                 Traceback (most recent call last)",
      "Cell \u001b[1;32mIn[10], line 1\u001b[0m\n\u001b[1;32m----> 1\u001b[0m Tx_array \u001b[38;5;241m=\u001b[39m np\u001b[38;5;241m.\u001b[39masarray(\u001b[43mTx\u001b[49m)\n\u001b[0;32m      2\u001b[0m Ty_array \u001b[38;5;241m=\u001b[39m np\u001b[38;5;241m.\u001b[39masarray(Ty)\u001b[38;5;241m.\u001b[39mravel()\n\u001b[0;32m      3\u001b[0m rkf \u001b[38;5;241m=\u001b[39m RepeatedStratifiedKFold(n_splits\u001b[38;5;241m=\u001b[39m\u001b[38;5;241m3\u001b[39m, n_repeats\u001b[38;5;241m=\u001b[39m\u001b[38;5;241m1\u001b[39m, random_state\u001b[38;5;241m=\u001b[39mconfig\u001b[38;5;241m.\u001b[39mSEED_VALUE)\n",
      "\u001b[1;31mNameError\u001b[0m: name 'Tx' is not defined"
     ]
    }
   ],
   "source": [
    "Tx_array = np.asarray(Tx)\n",
    "Ty_array = np.asarray(Ty).ravel()\n",
    "rkf = RepeatedStratifiedKFold(n_splits=3, n_repeats=1, random_state=config.SEED_VALUE)\n",
    "\n",
    "print(Tx_array)\n",
    "\n",
    "for (train_index, test_index), idx in zip(rkf.split(Tx_array), range(3)):\n",
    "    X_train, X_test = Tx_array[train_index], Tx_array[test_index]\n",
    "    y_train, y_test = Ty_array[train_index], Ty_array[test_index]"
   ]
  },
  {
   "cell_type": "code",
   "execution_count": null,
   "metadata": {},
   "outputs": [],
   "source": []
  },
  {
   "cell_type": "code",
   "execution_count": null,
   "metadata": {},
   "outputs": [],
   "source": []
  }
 ],
 "metadata": {
  "kernelspec": {
   "display_name": "calm",
   "language": "python",
   "name": "python3"
  },
  "language_info": {
   "codemirror_mode": {
    "name": "ipython",
    "version": 3
   },
   "file_extension": ".py",
   "mimetype": "text/x-python",
   "name": "python",
   "nbconvert_exporter": "python",
   "pygments_lexer": "ipython3",
   "version": "3.10.14"
  }
 },
 "nbformat": 4,
 "nbformat_minor": 2
}
