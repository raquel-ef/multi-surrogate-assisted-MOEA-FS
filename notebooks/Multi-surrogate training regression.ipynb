{
 "cells": [
  {
   "cell_type": "code",
   "execution_count": 1,
   "metadata": {},
   "outputs": [],
   "source": [
    "# Modify sys.path\n",
    "import os\n",
    "import sys\n",
    "\n",
    "project_root = os.path.abspath(os.path.join(os.getcwd(), \"..\"))\n",
    "sys.path.append(project_root)"
   ]
  },
  {
   "cell_type": "code",
   "execution_count": 2,
   "metadata": {},
   "outputs": [],
   "source": [
    "import numpy as np\n",
    "import pandas as pd\n",
    "import random\n",
    "from sklearn.metrics import root_mean_squared_error, mean_absolute_error\n",
    "import pickle\n",
    "from sklearn.ensemble import RandomForestRegressor\n",
    "from sklearn.model_selection import RepeatedKFold\n",
    "\n",
    "import tensorflow as tf\n",
    "from tensorflow.keras.models import Sequential\n",
    "from tensorflow.keras.layers import Dense, LSTM, Dropout, InputLayer\n",
    "\n",
    "import config.config as config\n",
    "from src.data_processing import read_arff, preprocess_data\n",
    "from src.evaluation import predictions_h_stepsahead_LSTM, calculate_H, train_evaluate_lstm_model"
   ]
  },
  {
   "cell_type": "code",
   "execution_count": 3,
   "metadata": {},
   "outputs": [],
   "source": [
    "import warnings\n",
    "warnings.filterwarnings(\"ignore\")"
   ]
  },
  {
   "cell_type": "code",
   "execution_count": null,
   "metadata": {},
   "outputs": [],
   "source": [
    "def surrogate_creation(Tx, Ty, modelSurrogate, path, model_type=\"ML\", nSplit=5, nRepeat=1):\n",
    "    rmseScores, maeScores, ccScores = [], [], []\n",
    "    train_X_cv, train_Y_cv, test_X_cv, test_Y_cv = [], [], [], []\n",
    "    \n",
    "    Tx_array = np.asarray(Tx)\n",
    "    Ty_array = np.asarray(Ty)\n",
    "    rkf = RepeatedKFold(n_splits=nSplit, n_repeats=nRepeat, random_state=config.SEED_VALUE)\n",
    "    \n",
    "    for idx, (train_index, test_index) in enumerate(rkf.split(Tx_array)):\n",
    "        X_train, X_test = Tx_array[train_index], Tx_array[test_index]\n",
    "        y_train, y_test = Ty_array[train_index], Ty_array[test_index]\n",
    "\n",
    "        train_X_cv.append(pd.DataFrame(X_train, columns=Tx.columns))\n",
    "        train_Y_cv.append(y_train.ravel())\n",
    "        test_X_cv.append(pd.DataFrame(X_test, columns=Tx.columns))\n",
    "        test_Y_cv.append(y_test.ravel())\n",
    "        \n",
    "        if model_type == \"DL\":\n",
    "            X_train, X_test = X_train.reshape((X_train.shape[0], 1, X_train.shape[1])), X_test.reshape((X_test.shape[0], 1, X_test.shape[1]))\n",
    "        \n",
    "        model = modelSurrogate() \n",
    "        \n",
    "        if model_type == \"ML\":\n",
    "            model.fit(X_train, np.array(y_train).ravel())\n",
    "        elif model_type == \"DL\":\n",
    "            random.seed(config.SEED_VALUE)\n",
    "            np.random.seed(config.SEED_VALUE)\n",
    "            tf.random.set_seed(config.SEED_VALUE)\n",
    "            \n",
    "            model.fit(X_train, y_train, batch_size=config.BATCH_SIZE, epochs=config.EPOCHS, verbose=0)\n",
    "        \n",
    "        pred = model.predict(X_test).ravel()\n",
    "        \n",
    "        rmseScores.append(root_mean_squared_error(y_test, pred))\n",
    "        maeScores.append(mean_absolute_error(y_test, pred))\n",
    "        ccScores.append(np.corrcoef(y_test.T, pred.T)[1,0])\n",
    "        \n",
    "        if model_type == \"ML\":\n",
    "            with open(f\"{path}-{idx}.pkl\", 'wb') as file:\n",
    "                pickle.dump(model, file)\n",
    "        else:\n",
    "            model.save(f\"{path}-{idx}.h5\")\n",
    "        \n",
    "    print(f\"RMSE: {np.mean(rmseScores):.4f} ± {np.std(rmseScores):.4f}\")\n",
    "    print(f\"MAE: {np.mean(maeScores):.4f} ± {np.std(maeScores):.4f}\")\n",
    "    print(f\"CC: {np.mean(ccScores):.4f} ± {np.std(ccScores):.4f}\")\n",
    "\n",
    "    return train_X_cv, train_Y_cv, test_X_cv, test_Y_cv"
   ]
  },
  {
   "cell_type": "code",
   "execution_count": 5,
   "metadata": {},
   "outputs": [],
   "source": [
    "def RF_model():\n",
    "    return RandomForestRegressor(random_state=config.SEED_VALUE)"
   ]
  },
  {
   "cell_type": "code",
   "execution_count": 6,
   "metadata": {},
   "outputs": [],
   "source": [
    "def LSTM_model():\n",
    "    \n",
    "    model = Sequential([\n",
    "            InputLayer(shape=(1, config.N_ATTRIB)),\n",
    "            LSTM(units=config.N_NEURONS, activation='tanh', recurrent_activation = 'sigmoid', \n",
    "                   return_sequences=True),\n",
    "            Dropout(0.2),\n",
    "            Dense(1, activation=\"linear\")\n",
    "        ])\n",
    "\n",
    "    model.compile(loss=tf.keras.losses.MeanSquaredError(), optimizer='adam',\n",
    "                  metrics=[tf.keras.metrics.RootMeanSquaredError()])\n",
    "    \n",
    "    return model"
   ]
  },
  {
   "cell_type": "code",
   "execution_count": 7,
   "metadata": {},
   "outputs": [],
   "source": [
    "# Load dataset\n",
    "DATA_PATH = os.path.join('..', 'data', config.DATASET_NAME)\n",
    "\n",
    "dataset = read_arff(DATA_PATH)\n",
    "df_dict = preprocess_data(dataset)\n",
    "\n",
    "train_X, train_Y, test_X, test_Y = df_dict['normalized']"
   ]
  },
  {
   "cell_type": "code",
   "execution_count": null,
   "metadata": {},
   "outputs": [
    {
     "name": "stdout",
     "output_type": "stream",
     "text": [
      "RMSE: 0.0726 ± 0.0056\n",
      "MAE: 0.0490 ± 0.0028\n",
      "CC: 0.8699 ± 0.0151\n",
      "\u001b[1m8/8\u001b[0m \u001b[32m━━━━━━━━━━━━━━━━━━━━\u001b[0m\u001b[37m\u001b[0m \u001b[1m0s\u001b[0m 14ms/step\n"
     ]
    },
    {
     "name": "stderr",
     "output_type": "stream",
     "text": [
      "WARNING:absl:You are saving your model as an HDF5 file via `model.save()` or `keras.saving.save_model(model)`. This file format is considered legacy. We recommend using instead the native Keras format, e.g. `model.save('my_model.keras')` or `keras.saving.save_model(model, 'my_model.keras')`. \n"
     ]
    },
    {
     "name": "stdout",
     "output_type": "stream",
     "text": [
      "\u001b[1m8/8\u001b[0m \u001b[32m━━━━━━━━━━━━━━━━━━━━\u001b[0m\u001b[37m\u001b[0m \u001b[1m0s\u001b[0m 14ms/step\n"
     ]
    },
    {
     "name": "stderr",
     "output_type": "stream",
     "text": [
      "WARNING:absl:You are saving your model as an HDF5 file via `model.save()` or `keras.saving.save_model(model)`. This file format is considered legacy. We recommend using instead the native Keras format, e.g. `model.save('my_model.keras')` or `keras.saving.save_model(model, 'my_model.keras')`. \n"
     ]
    },
    {
     "name": "stdout",
     "output_type": "stream",
     "text": [
      "WARNING:tensorflow:5 out of the last 17 calls to <function TensorFlowTrainer.make_predict_function.<locals>.one_step_on_data_distributed at 0x0000021C31410E50> triggered tf.function retracing. Tracing is expensive and the excessive number of tracings could be due to (1) creating @tf.function repeatedly in a loop, (2) passing tensors with different shapes, (3) passing Python objects instead of tensors. For (1), please define your @tf.function outside of the loop. For (2), @tf.function has reduce_retracing=True option that can avoid unnecessary retracing. For (3), please refer to https://www.tensorflow.org/guide/function#controlling_retracing and https://www.tensorflow.org/api_docs/python/tf/function for  more details.\n"
     ]
    },
    {
     "name": "stderr",
     "output_type": "stream",
     "text": [
      "WARNING:tensorflow:5 out of the last 17 calls to <function TensorFlowTrainer.make_predict_function.<locals>.one_step_on_data_distributed at 0x0000021C31410E50> triggered tf.function retracing. Tracing is expensive and the excessive number of tracings could be due to (1) creating @tf.function repeatedly in a loop, (2) passing tensors with different shapes, (3) passing Python objects instead of tensors. For (1), please define your @tf.function outside of the loop. For (2), @tf.function has reduce_retracing=True option that can avoid unnecessary retracing. For (3), please refer to https://www.tensorflow.org/guide/function#controlling_retracing and https://www.tensorflow.org/api_docs/python/tf/function for  more details.\n"
     ]
    },
    {
     "name": "stdout",
     "output_type": "stream",
     "text": [
      "\u001b[1m8/8\u001b[0m \u001b[32m━━━━━━━━━━━━━━━━━━━━\u001b[0m\u001b[37m\u001b[0m \u001b[1m0s\u001b[0m 14ms/step\n"
     ]
    },
    {
     "name": "stderr",
     "output_type": "stream",
     "text": [
      "WARNING:absl:You are saving your model as an HDF5 file via `model.save()` or `keras.saving.save_model(model)`. This file format is considered legacy. We recommend using instead the native Keras format, e.g. `model.save('my_model.keras')` or `keras.saving.save_model(model, 'my_model.keras')`. \n"
     ]
    },
    {
     "name": "stdout",
     "output_type": "stream",
     "text": [
      "WARNING:tensorflow:5 out of the last 17 calls to <function TensorFlowTrainer.make_predict_function.<locals>.one_step_on_data_distributed at 0x0000021C327CD3F0> triggered tf.function retracing. Tracing is expensive and the excessive number of tracings could be due to (1) creating @tf.function repeatedly in a loop, (2) passing tensors with different shapes, (3) passing Python objects instead of tensors. For (1), please define your @tf.function outside of the loop. For (2), @tf.function has reduce_retracing=True option that can avoid unnecessary retracing. For (3), please refer to https://www.tensorflow.org/guide/function#controlling_retracing and https://www.tensorflow.org/api_docs/python/tf/function for  more details.\n"
     ]
    },
    {
     "name": "stderr",
     "output_type": "stream",
     "text": [
      "WARNING:tensorflow:5 out of the last 17 calls to <function TensorFlowTrainer.make_predict_function.<locals>.one_step_on_data_distributed at 0x0000021C327CD3F0> triggered tf.function retracing. Tracing is expensive and the excessive number of tracings could be due to (1) creating @tf.function repeatedly in a loop, (2) passing tensors with different shapes, (3) passing Python objects instead of tensors. For (1), please define your @tf.function outside of the loop. For (2), @tf.function has reduce_retracing=True option that can avoid unnecessary retracing. For (3), please refer to https://www.tensorflow.org/guide/function#controlling_retracing and https://www.tensorflow.org/api_docs/python/tf/function for  more details.\n"
     ]
    },
    {
     "name": "stdout",
     "output_type": "stream",
     "text": [
      "\u001b[1m8/8\u001b[0m \u001b[32m━━━━━━━━━━━━━━━━━━━━\u001b[0m\u001b[37m\u001b[0m \u001b[1m0s\u001b[0m 14ms/step\n"
     ]
    },
    {
     "name": "stderr",
     "output_type": "stream",
     "text": [
      "WARNING:absl:You are saving your model as an HDF5 file via `model.save()` or `keras.saving.save_model(model)`. This file format is considered legacy. We recommend using instead the native Keras format, e.g. `model.save('my_model.keras')` or `keras.saving.save_model(model, 'my_model.keras')`. \n"
     ]
    },
    {
     "name": "stdout",
     "output_type": "stream",
     "text": [
      "\u001b[1m8/8\u001b[0m \u001b[32m━━━━━━━━━━━━━━━━━━━━\u001b[0m\u001b[37m\u001b[0m \u001b[1m0s\u001b[0m 13ms/step\n"
     ]
    },
    {
     "name": "stderr",
     "output_type": "stream",
     "text": [
      "WARNING:absl:You are saving your model as an HDF5 file via `model.save()` or `keras.saving.save_model(model)`. This file format is considered legacy. We recommend using instead the native Keras format, e.g. `model.save('my_model.keras')` or `keras.saving.save_model(model, 'my_model.keras')`. \n"
     ]
    },
    {
     "name": "stdout",
     "output_type": "stream",
     "text": [
      "RMSE: 0.0747 ± 0.0047\n",
      "MAE: 0.0523 ± 0.0040\n",
      "CC: 0.8644 ± 0.0241\n"
     ]
    }
   ],
   "source": [
    "train_X_cv_RF, train_Y_cv_RF, test_X_cv_RF, test_Y_cv_RF = surrogate_creation(train_X, train_Y, RF_model, \n",
    "                                                                              rf'../models/{config.DATASET_SAVE_NAME}-surrogate-RF', model_type=\"ML\")\n",
    "train_X_cv_LSTM, train_Y_cv_LSTM, test_X_cv_LSTM, test_Y_cv_LSTM = surrogate_creation(train_X, train_Y, LSTM_model, \n",
    "                                                                                      rf'../models/{config.DATASET_SAVE_NAME}-surrogate-LSTM', model_type=\"DL\")"
   ]
  },
  {
   "cell_type": "code",
   "execution_count": 12,
   "metadata": {},
   "outputs": [],
   "source": [
    "# Save results\n",
    "with open(f'../variables/{config.DATASET_SAVE_NAME}-dataset-cv-RF.pickle', 'wb') as f:\n",
    "     pickle.dump([train_X_cv_RF, train_Y_cv_RF, test_X_cv_RF, test_Y_cv_RF], f)\n",
    "\n",
    "with open(f'../variables/{config.DATASET_SAVE_NAME}-dataset-cv-LSTM.pickle', 'wb') as f:\n",
    "     pickle.dump([train_X_cv_LSTM, train_Y_cv_LSTM, test_X_cv_LSTM, test_Y_cv_LSTM], f)"
   ]
  },
  {
   "cell_type": "code",
   "execution_count": null,
   "metadata": {},
   "outputs": [],
   "source": []
  },
  {
   "cell_type": "code",
   "execution_count": null,
   "metadata": {},
   "outputs": [],
   "source": []
  }
 ],
 "metadata": {
  "kernelspec": {
   "display_name": "calm",
   "language": "python",
   "name": "python3"
  },
  "language_info": {
   "codemirror_mode": {
    "name": "ipython",
    "version": 3
   },
   "file_extension": ".py",
   "mimetype": "text/x-python",
   "name": "python",
   "nbconvert_exporter": "python",
   "pygments_lexer": "ipython3",
   "version": "3.10.14"
  }
 },
 "nbformat": 4,
 "nbformat_minor": 2
}
